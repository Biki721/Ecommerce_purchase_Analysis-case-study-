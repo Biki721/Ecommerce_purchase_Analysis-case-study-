{
  "nbformat": 4,
  "nbformat_minor": 0,
  "metadata": {
    "colab": {
      "name": "E-commerce_Purchase_Analysis.ipynb",
      "provenance": []
    },
    "kernelspec": {
      "name": "python3",
      "display_name": "Python 3"
    },
    "language_info": {
      "name": "python"
    }
  },
  "cells": [
    {
      "cell_type": "markdown",
      "source": [
        "E-commerce Purchase Analysis"
      ],
      "metadata": {
        "id": "x3VSNULYExCS"
      }
    },
    {
      "cell_type": "code",
      "execution_count": 1,
      "metadata": {
        "id": "tQSr7G4NAM4J"
      },
      "outputs": [],
      "source": [
        "import pandas as pd\n",
        "import numpy as np"
      ]
    },
    {
      "cell_type": "code",
      "source": [
        "df = pd.read_csv('Ecommerce_Purchases.csv')"
      ],
      "metadata": {
        "id": "yR8wUN3vGQd9"
      },
      "execution_count": 2,
      "outputs": []
    },
    {
      "cell_type": "markdown",
      "source": [
        "1. Display Top 10 Rows of The Dataset"
      ],
      "metadata": {
        "id": "4P4nQFiRHKbH"
      }
    },
    {
      "cell_type": "code",
      "source": [
        "df.head(10)"
      ],
      "metadata": {
        "id": "wdK1r6QWGQmN"
      },
      "execution_count": null,
      "outputs": []
    },
    {
      "cell_type": "markdown",
      "source": [
        "2. Check Last 10 Rows of The Dataset"
      ],
      "metadata": {
        "id": "m7wBa8SDHbD9"
      }
    },
    {
      "cell_type": "code",
      "source": [
        "df.tail(10)"
      ],
      "metadata": {
        "id": "xyGI9Br0GQxK"
      },
      "execution_count": null,
      "outputs": []
    },
    {
      "cell_type": "markdown",
      "source": [
        "Check Datatype of Each Column"
      ],
      "metadata": {
        "id": "m1ke-uClWURZ"
      }
    },
    {
      "cell_type": "code",
      "source": [
        "df.dtypes"
      ],
      "metadata": {
        "id": "4uPFsoRhGQzX"
      },
      "execution_count": null,
      "outputs": []
    },
    {
      "cell_type": "markdown",
      "source": [
        "Check null values in the dataset"
      ],
      "metadata": {
        "id": "kS5DXdP8WsJL"
      }
    },
    {
      "cell_type": "code",
      "source": [
        "df.isnull().sum()"
      ],
      "metadata": {
        "id": "qTGzmsSOGQ3H"
      },
      "execution_count": null,
      "outputs": []
    },
    {
      "cell_type": "markdown",
      "source": [
        "How many rows and columns are there in our Dataset? "
      ],
      "metadata": {
        "id": "YtxBzW8fXBf1"
      }
    },
    {
      "cell_type": "code",
      "source": [
        "df.shape"
      ],
      "metadata": {
        "id": "_d0xZwL_GQ5e"
      },
      "execution_count": null,
      "outputs": []
    },
    {
      "cell_type": "code",
      "source": [
        "#Alternate\n",
        "df.info()"
      ],
      "metadata": {
        "id": "7tieQ2w0GQ9B"
      },
      "execution_count": null,
      "outputs": []
    },
    {
      "cell_type": "code",
      "source": [
        "#Alternate\n",
        "print('No. of columns',len(df.columns))\n",
        "print('No. of rows',len(df))"
      ],
      "metadata": {
        "id": "kLoakeYIX6H0"
      },
      "execution_count": null,
      "outputs": []
    },
    {
      "cell_type": "markdown",
      "source": [
        "Highest and Lowest Purchase Prices."
      ],
      "metadata": {
        "id": "cji6qTibY9j6"
      }
    },
    {
      "cell_type": "code",
      "source": [
        "df.columns"
      ],
      "metadata": {
        "id": "2RXGTKVDYGya"
      },
      "execution_count": null,
      "outputs": []
    },
    {
      "cell_type": "code",
      "source": [
        "df['Purchase Price'].max()"
      ],
      "metadata": {
        "id": "K_KN0BZtZFR7"
      },
      "execution_count": null,
      "outputs": []
    },
    {
      "cell_type": "code",
      "source": [
        "df['Purchase Price'].min()"
      ],
      "metadata": {
        "id": "NMVJtM3WZNtA"
      },
      "execution_count": null,
      "outputs": []
    },
    {
      "cell_type": "markdown",
      "source": [
        "Average Purchase Price"
      ],
      "metadata": {
        "id": "jZZ-LVEsZWeT"
      }
    },
    {
      "cell_type": "code",
      "source": [
        "df.columns"
      ],
      "metadata": {
        "id": "BqXpDQebZR3w"
      },
      "execution_count": null,
      "outputs": []
    },
    {
      "cell_type": "code",
      "source": [
        "df['Purchase Price'].mean()"
      ],
      "metadata": {
        "id": "JzPfncF9ZcsP"
      },
      "execution_count": null,
      "outputs": []
    },
    {
      "cell_type": "markdown",
      "source": [
        "How many people have French 'fr' as their Language?"
      ],
      "metadata": {
        "id": "2JL-8qrRbzFY"
      }
    },
    {
      "cell_type": "code",
      "source": [
        "df.columns"
      ],
      "metadata": {
        "id": "twtm8UETZvut"
      },
      "execution_count": null,
      "outputs": []
    },
    {
      "cell_type": "code",
      "source": [
        "len(df[df['Language']=='fr'])"
      ],
      "metadata": {
        "colab": {
          "base_uri": "https://localhost:8080/"
        },
        "id": "8s_a4YG5a59z",
        "outputId": "f9595f12-0534-490e-ef60-e3a4a4db8e4a"
      },
      "execution_count": 47,
      "outputs": [
        {
          "output_type": "execute_result",
          "data": {
            "text/plain": [
              "1097"
            ]
          },
          "metadata": {},
          "execution_count": 47
        }
      ]
    },
    {
      "cell_type": "code",
      "source": [
        "#Alternate\n",
        "df[df['Language']=='fr'].count()"
      ],
      "metadata": {
        "id": "aFZ_yxhvcEuQ"
      },
      "execution_count": null,
      "outputs": []
    },
    {
      "cell_type": "markdown",
      "source": [
        "Job Title Contains Engineer"
      ],
      "metadata": {
        "id": "DQwq_nFFdHaU"
      }
    },
    {
      "cell_type": "code",
      "source": [
        "df.columns"
      ],
      "metadata": {
        "id": "j7tepAOAc6yg"
      },
      "execution_count": null,
      "outputs": []
    },
    {
      "cell_type": "code",
      "source": [
        "len(df[df['Job'].str.contains('engineer',case = False)])"
      ],
      "metadata": {
        "id": "3YS5850pdRr2"
      },
      "execution_count": null,
      "outputs": []
    },
    {
      "cell_type": "markdown",
      "source": [
        " Find The Email of the person with the following IP Address: 132.207.160.22"
      ],
      "metadata": {
        "id": "jyALj8W2rvue"
      }
    },
    {
      "cell_type": "code",
      "source": [
        "df.columns"
      ],
      "metadata": {
        "id": "4Bz_bhuDdjla"
      },
      "execution_count": null,
      "outputs": []
    },
    {
      "cell_type": "code",
      "source": [
        "df[df['IP Address']=='132.207.160.22']['Email']"
      ],
      "metadata": {
        "id": "Fotu54KKdjnH"
      },
      "execution_count": null,
      "outputs": []
    },
    {
      "cell_type": "markdown",
      "source": [
        "How many People have Mastercard as their Credit Card Provider and made a purchase above 50?"
      ],
      "metadata": {
        "id": "y3_ddXQIsXhu"
      }
    },
    {
      "cell_type": "code",
      "source": [
        "df.columns"
      ],
      "metadata": {
        "id": "q-K9BxB6djqf"
      },
      "execution_count": null,
      "outputs": []
    },
    {
      "cell_type": "code",
      "source": [
        "len(df[(df['CC Provider']=='Mastercard') & (df['Purchase Price']> 50)])"
      ],
      "metadata": {
        "id": "0BZdL4f-scvO"
      },
      "execution_count": null,
      "outputs": []
    },
    {
      "cell_type": "code",
      "source": [
        "#Alternate\n",
        "df[(df['CC Provider']=='Mastercard') & (df['Purchase Price']> 50)].count()"
      ],
      "metadata": {
        "id": "FnQ9KMRUuTZ5"
      },
      "execution_count": null,
      "outputs": []
    },
    {
      "cell_type": "markdown",
      "source": [
        "Find the email of the person with the following Credit Card Number: 4664825258997302"
      ],
      "metadata": {
        "id": "Rmn8IlJytVGc"
      }
    },
    {
      "cell_type": "code",
      "source": [
        "df.columns"
      ],
      "metadata": {
        "id": "A13glmLdseTq"
      },
      "execution_count": null,
      "outputs": []
    },
    {
      "cell_type": "code",
      "source": [
        "df[df['Credit Card'] == 4664825258997302]['Email']"
      ],
      "metadata": {
        "id": "0GPeFtO4seVj"
      },
      "execution_count": null,
      "outputs": []
    },
    {
      "cell_type": "markdown",
      "source": [
        " How many people purchase during the AM and how many people purchase during PM?"
      ],
      "metadata": {
        "id": "CK00JaEJuxhh"
      }
    },
    {
      "cell_type": "code",
      "source": [
        "df.columns"
      ],
      "metadata": {
        "id": "gdd0A87duwl7"
      },
      "execution_count": null,
      "outputs": []
    },
    {
      "cell_type": "code",
      "source": [
        "df['AM or PM'].value_counts()"
      ],
      "metadata": {
        "id": "7XYlI-ZrseZ_"
      },
      "execution_count": null,
      "outputs": []
    },
    {
      "cell_type": "markdown",
      "source": [
        "How many people have a credit card that expires in 2020?"
      ],
      "metadata": {
        "id": "MmEQMLNXvU97"
      }
    },
    {
      "cell_type": "code",
      "source": [
        "df.columns"
      ],
      "metadata": {
        "id": "bGqJJwFrsecQ"
      },
      "execution_count": null,
      "outputs": []
    },
    {
      "cell_type": "code",
      "source": [
        "len(df[df['CC Exp Date'].str.contains('/20')])"
      ],
      "metadata": {
        "id": "wPRgnEhLvbn9"
      },
      "execution_count": null,
      "outputs": []
    },
    {
      "cell_type": "code",
      "source": [
        "#Alternate\n",
        "def fun():\n",
        "  count = 0\n",
        "  for date in df['CC Exp Date']:\n",
        "    if date.split('/')[1] == '20':\n",
        "      count = count + 1\n",
        "  return count\n",
        "  \n",
        "fun()  "
      ],
      "metadata": {
        "id": "OgrN8el6vbqx"
      },
      "execution_count": null,
      "outputs": []
    },
    {
      "cell_type": "code",
      "source": [
        "#Alternate\n",
        "df[df['CC Exp Date'].apply(lambda x:x.split('/')[1]== '20')].count()"
      ],
      "metadata": {
        "id": "CpFmwCubvaZU"
      },
      "execution_count": null,
      "outputs": []
    },
    {
      "cell_type": "code",
      "source": [
        "#Alternate\n",
        "len(df[df['CC Exp Date'].apply(lambda x:x[3:]== '20')])"
      ],
      "metadata": {
        "colab": {
          "base_uri": "https://localhost:8080/"
        },
        "id": "fKCsbxv95j9q",
        "outputId": "c8a7b06f-2ae3-4ca0-d7ff-a60f4de9e069"
      },
      "execution_count": 143,
      "outputs": [
        {
          "output_type": "execute_result",
          "data": {
            "text/plain": [
              "988"
            ]
          },
          "metadata": {},
          "execution_count": 143
        }
      ]
    },
    {
      "cell_type": "markdown",
      "source": [
        "What are the top 5 most popular email providers (e.g. gmail.com, yahoo.com, etc...) \n"
      ],
      "metadata": {
        "id": "ItjEYx3Y1fBl"
      }
    },
    {
      "cell_type": "code",
      "source": [
        "df.columns"
      ],
      "metadata": {
        "colab": {
          "base_uri": "https://localhost:8080/"
        },
        "id": "9YknJtJyvacJ",
        "outputId": "6cbf599a-cf21-42e5-ac5c-24a49e8f6b6e"
      },
      "execution_count": 134,
      "outputs": [
        {
          "output_type": "execute_result",
          "data": {
            "text/plain": [
              "Index(['Address', 'Lot', 'AM or PM', 'Browser Info', 'Company', 'Credit Card',\n",
              "       'CC Exp Date', 'CC Security Code', 'CC Provider', 'Email', 'Job',\n",
              "       'IP Address', 'Language', 'Purchase Price'],\n",
              "      dtype='object')"
            ]
          },
          "metadata": {},
          "execution_count": 134
        }
      ]
    },
    {
      "cell_type": "code",
      "source": [
        "df['Email'].apply(lambda x:x.split('@')[1]).value_counts().head(5)"
      ],
      "metadata": {
        "colab": {
          "base_uri": "https://localhost:8080/"
        },
        "id": "ADLcgBrzxhq-",
        "outputId": "58983639-7306-4598-81b3-d5735bab91b2"
      },
      "execution_count": 146,
      "outputs": [
        {
          "output_type": "execute_result",
          "data": {
            "text/plain": [
              "hotmail.com     1638\n",
              "yahoo.com       1616\n",
              "gmail.com       1605\n",
              "smith.com         42\n",
              "williams.com      37\n",
              "Name: Email, dtype: int64"
            ]
          },
          "metadata": {},
          "execution_count": 146
        }
      ]
    },
    {
      "cell_type": "code",
      "source": [
        ""
      ],
      "metadata": {
        "id": "fJMKiWq84vNS"
      },
      "execution_count": null,
      "outputs": []
    }
  ]
}